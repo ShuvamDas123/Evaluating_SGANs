{
  "nbformat": 4,
  "nbformat_minor": 0,
  "metadata": {
    "colab": {
      "name": "evaluate.ipynb",
      "provenance": [],
      "collapsed_sections": []
    },
    "kernelspec": {
      "name": "python3",
      "display_name": "Python 3"
    },
    "language_info": {
      "name": "python"
    }
  },
  "cells": [
    {
      "cell_type": "code",
      "source": [
        "gpu_info = !nvidia-smi\n",
        "gpu_info = '\\n'.join(gpu_info)\n",
        "if gpu_info.find('failed') >= 0:\n",
        "  print('Not connected to a GPU')\n",
        "else:\n",
        "  print(gpu_info)"
      ],
      "metadata": {
        "id": "_R9JrIDbZDzd",
        "outputId": "20386439-1176-456e-e635-3a28b9a414da",
        "colab": {
          "base_uri": "https://localhost:8080/"
        }
      },
      "execution_count": null,
      "outputs": [
        {
          "output_type": "stream",
          "name": "stdout",
          "text": [
            "Not connected to a GPU\n"
          ]
        }
      ]
    },
    {
      "cell_type": "code",
      "execution_count": null,
      "metadata": {
        "id": "p8VDxldhDh8X"
      },
      "outputs": [],
      "source": [
        "import pysepm\n",
        "import scipy.io.wavfile as wavfile\n",
        "import os\n",
        "import numpy as np\n",
        "from math import log10, sqrt\n",
        "import mir_eval\n",
        "\n",
        "\n",
        "def PSNR(original, compressed):\n",
        "    mse = np.mean((original - compressed) ** 2)\n",
        "    if(mse == 0):  # MSE is zero means no noise is present in the signal .\n",
        "                  # Therefore PSNR have no importance.\n",
        "        return 100\n",
        "    max_signal = 255\n",
        "    psnr = 20 * log10(max_signal / sqrt(mse))\n",
        "    return psnr\n",
        "\n",
        "\n",
        "\n",
        "snr_noisy = []\n",
        "snr_enhanced = []\n",
        "wss_noisy = []\n",
        "wss_enhanced = []\n",
        "psnr_noisy = []\n",
        "psnr_enhanced = []\n",
        "\n",
        "wav_dir = \"datasets/MUSIC/\"\n",
        "for wav in os.listdir(wav_dir + \"clean_test/\"):\n",
        "    if wav.endswith('.wav'):\n",
        "        file, ext = os.path.splitext(wav)\n",
        "\n",
        "        fs, clean_wav = wavfile.read(wav_dir + \"clean_test/\" + wav)\n",
        "        clean_wav = np.interp(clean_wav, (-1, 1), (0, 255))\n",
        "        fs, noisy_wav = wavfile.read(wav_dir + \"noisy_clean_test/\" + file + \"_0\" + ext)\n",
        "        noisy_wav = np.interp(clean_wav, (-1, 1), (0., 255))\n",
        "        s, noisy_wav_1 = wavfile.read(wav_dir + \"noisy_clean_test/\" + file + \"_1\" + ext)\n",
        "        noisy_wav_1 = np.interp(noisy_wav_1, (-1, 1), (0, 255))\n",
        "        fs, enhanced_wav = wavfile.read(wav_dir + \"dfn_enhanced_music/\" + file + \"_0\" + ext)\n",
        "        enhanced_wav = np.interp(enhanced_wav, (-1, 1), (0, 255.))\n",
        "        fs, enhanced_wav_1 = wavfile.read(wav_dir + \"dfn_enhanced_music/\" + file + \"_1\" + ext)\n",
        "        enhanced_wav_1 = np.interp(enhanced_wav_1, (-1, 1), (0, 255))\n",
        "\n",
        "\n",
        "        #snr_noisy.append(pysepm.SNRseg(clean_wav, noisy_wav, fs))\n",
        "        # snr_noisy.append(pysepm.SNRseg(clean_wav, noisy_wav_1, fs))\n",
        "        #snr_enhanced.append(pysepm.SNRseg(clean_wav, enhanced_wav, fs))\n",
        "        # snr_enhanced.append(pysepm.SNRseg(clean_wav, enhanced_wav_1, fs))\n",
        "        #wss_noisy.append(mir_eval.separation.bss_eval_sources(clean_wav, noisy_wav)[0][0])\n",
        "        # wss_noisy.append(mir_eval.separation.bss_eval_sources(clean_wav, noisy_wav_1)[2][0])\n",
        "        #wss_enhanced.append(mir_eval.separation.bss_eval_sources(clean_wav, enhanced_wav)[0][0])\n",
        "        # wss_enhanced.append(mir_eval.separation.bss_eval_sources(clean_wav, enhanced_wav_1)[2][0])\n",
        "        psnr_noisy.append(PSNR(clean_wav, noisy_wav))\n",
        "        # psnr_noisy.append(PSNR(clean_wav, noisy_wav_1))\n",
        "        psnr_enhanced.append(PSNR(clean_wav, enhanced_wav))\n",
        "        # psnr_enhanced.append(PSNR(clean_wav, enhanced_wav_1))\n",
        "\n",
        "        \n",
        "\n",
        "\n",
        "print(\"Noisy PSNR: {}\".format(sum(psnr_noisy) / len(psnr_noisy)))\n",
        "print(\"Enhanced PSNR: {}\".format(sum(psnr_enhanced) / len(psnr_enhanced)))\n"
      ]
    }
  ]
}